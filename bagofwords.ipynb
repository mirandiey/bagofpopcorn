{
 "cells": [
  {
   "cell_type": "code",
   "execution_count": null,
   "id": "75d9a795-1c57-4f63-b94b-5f0e07c6b0e1",
   "metadata": {},
   "outputs": [],
   "source": [
    "Bag of Words Meets Bag of Popcorn\n",
    "\n",
    "This notebook will provide a tutorial in using Word2Vectors to get a deeper understanding of sentiment analysis. "
   ]
  },
  {
   "cell_type": "code",
   "execution_count": null,
   "id": "4ce21ff8-c2c2-4a83-8355-751baa346a82",
   "metadata": {},
   "outputs": [],
   "source": []
  }
 ],
 "metadata": {
  "kernelspec": {
   "display_name": "Python 3 (ipykernel)",
   "language": "python",
   "name": "python3"
  },
  "language_info": {
   "codemirror_mode": {
    "name": "ipython",
    "version": 3
   },
   "file_extension": ".py",
   "mimetype": "text/x-python",
   "name": "python",
   "nbconvert_exporter": "python",
   "pygments_lexer": "ipython3",
   "version": "3.12.4"
  }
 },
 "nbformat": 4,
 "nbformat_minor": 5
}
